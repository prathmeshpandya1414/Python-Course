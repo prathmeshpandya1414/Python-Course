{
 "cells": [
  {
   "cell_type": "code",
   "execution_count": 7,
   "id": "a33ed458-7d7f-4afa-be45-bdaa86587f78",
   "metadata": {},
   "outputs": [
    {
     "name": "stdout",
     "output_type": "stream",
     "text": [
      "Hey my name is Ramesh and I am form India\n",
      "<class 'str'>\n"
     ]
    }
   ],
   "source": [
    "#format method\n",
    "g = \"Hey my name is {} and I am from {}\"\n",
    "country = \"India\"\n",
    "name = \"Ramesh\"\n",
    "# print(g.format(name, country)) \n",
    "print(f\"Hey my name is {name} and I am form {country}\")\n",
    "print(type(f\"{2*30}\"))"
   ]
  },
  {
   "cell_type": "code",
   "execution_count": 16,
   "id": "76fd325d-fb0a-4c82-8b3c-75f135dc8b40",
   "metadata": {},
   "outputs": [
    {
     "name": "stdin",
     "output_type": "stream",
     "text": [
      "Enter a number: 5\n"
     ]
    },
    {
     "name": "stdout",
     "output_type": "stream",
     "text": [
      "25\n",
      "Takes in a number n and returns the square of n\n"
     ]
    }
   ],
   "source": [
    "#Docstring\n",
    "n = int(input(\"Enter a number:\"))\n",
    "def square(n):\n",
    "    '''Takes in a number n and returns the square of n'''\n",
    "    print(n**2)\n",
    "square(n)\n",
    "print(square.__doc__)"
   ]
  },
  {
   "cell_type": "code",
   "execution_count": 31,
   "id": "c4b47cfd-c704-4fa8-a7ba-558cf2d9b04d",
   "metadata": {},
   "outputs": [
    {
     "name": "stdin",
     "output_type": "stream",
     "text": [
      "Enter the number of digits till which the fibonacci series would appear: 9\n"
     ]
    },
    {
     "name": "stdout",
     "output_type": "stream",
     "text": [
      "0 1 1 2 3 5 8 13 21 "
     ]
    }
   ],
   "source": [
    "#Recursion\n",
    "#factorial program\n",
    "# n = int(input(\"Enter any number:\"))\n",
    "# def fact(n):\n",
    "#     if(n==0 or n==1):\n",
    "#         return 1\n",
    "#     else:\n",
    "#         return n*fact(n-1)\n",
    "# fact(n)\n",
    "\n",
    "#fibonacci series\n",
    "\n",
    "def fibbo(m):\n",
    "    if(m<=1):\n",
    "        return m\n",
    "    else:\n",
    "        return fibbo(m-1) + fibbo(m-2)\n",
    "num = int(input(\"Enter the number of digits till which the fibonacci series would appear:\"))\n",
    "for i in range(num):\n",
    "    print(fibbo(i),end=\" \")"
   ]
  },
  {
   "cell_type": "code",
   "execution_count": 50,
   "id": "a1c5e12b-63f6-49ac-9df7-d5ed9e29cae2",
   "metadata": {},
   "outputs": [
    {
     "name": "stdout",
     "output_type": "stream",
     "text": [
      "{'happy', 2, 3, 4, 6}\n",
      "<class 'set'>\n",
      "happy 2 3 4 6 "
     ]
    },
    {
     "data": {
      "text/plain": [
       "{'Antartica', 'Australia', 'India', 'tokyo'}"
      ]
     },
     "execution_count": 50,
     "metadata": {},
     "output_type": "execute_result"
    }
   ],
   "source": [
    "#set operation\n",
    "s = {2,3,4,\"happy\",4,6,2} #removes duplicates\n",
    "print(s)\n",
    "print(type(s))\n",
    "#to access set\n",
    "for i in s:\n",
    "    print(i,end=\" \")\n",
    "#methods\n",
    "t = {\"Antartica\",\"India\",\"USA\"}\n",
    "u = {\"USA\",\"Australia\",\"tokyo\"}\n",
    "t.union(u)\n",
    "# t.update(u)\n",
    "t.intersection(u)\n",
    "t.symmetric_difference(u)"
   ]
  },
  {
   "cell_type": "code",
   "execution_count": 73,
   "id": "7705bbb5-7168-487a-84a7-ae92af0ffa1a",
   "metadata": {},
   "outputs": [
    {
     "name": "stdout",
     "output_type": "stream",
     "text": [
      "the value of corresponding name is Rohan \n",
      "the value of corresponding age is 45 \n",
      "the value of corresponding gender is male \n",
      "the value of corresponding occupation is student \n",
      "the value of corresponding blood group is B positive \n",
      "45\n",
      "dict_values(['Rohan', 45, 'male', 'student', 'B positive'])\n",
      "dict_keys(['name', 'age', 'gender', 'occupation', 'blood group'])\n",
      "dict_items([('name', 'Rohan'), ('age', 45), ('gender', 'male'), ('occupation', 'student')])\n"
     ]
    }
   ],
   "source": [
    "#dictionaries and its methods\n",
    "dict = {\n",
    "    \"name\": \"Rohan\",\n",
    "    \"age\": 45,\n",
    "    \"gender\": \"male\",\n",
    "    \"occupation\": \"student\",\n",
    "    \"blood group\": \"B positive\"\n",
    "}\n",
    "for key, values in dict.items():\n",
    "    print(f\"the value of corresponding {key} is {values} \")\n",
    "\n",
    "print(dict[\"age\"])\n",
    "print(dict.values())\n",
    "print(dict.keys())\n",
    "# dict.pop(\"name\")\n",
    "# dict.popitem()\n",
    "print(dict.items())\n",
    "\n",
    "\n",
    "    \n"
   ]
  },
  {
   "cell_type": "code",
   "execution_count": 80,
   "id": "cff67503-77e0-49f6-81a9-c317c573d8b3",
   "metadata": {},
   "outputs": [
    {
     "name": "stdout",
     "output_type": "stream",
     "text": [
      "0\n",
      "1\n",
      "2\n",
      "3\n",
      "4\n"
     ]
    }
   ],
   "source": [
    "#for-else looping\n",
    "\n",
    "for i in range(7):\n",
    "    print(i)\n",
    "    # if(i==4):\n",
    "    #     break\n",
    "else:\n",
    "    print(\"no value achieved\")"
   ]
  },
  {
   "cell_type": "code",
   "execution_count": 100,
   "id": "a916f3be-7820-4ac0-9eba-52e8167660a7",
   "metadata": {},
   "outputs": [
    {
     "name": "stdin",
     "output_type": "stream",
     "text": [
      "Enter an integer: 7\n"
     ]
    },
    {
     "name": "stdout",
     "output_type": "stream",
     "text": [
      "the number entered is not found in the list\n",
      "I am always executed\n"
     ]
    }
   ],
   "source": [
    "#try,except and finally\n",
    "def gg():\n",
    "    try:\n",
    "        num = [34,54,65,67,78]\n",
    "        i = int(input(\"Enter an integer:\"))\n",
    "        print(num[i])\n",
    "    except:\n",
    "        print(\"the number entered is not found in the list\")\n",
    "    finally:\n",
    "        print(\"I am always executed\")\n",
    "gg()"
   ]
  },
  {
   "cell_type": "code",
   "execution_count": 105,
   "id": "184436ea-34b4-4f95-9555-dcbcc1511c04",
   "metadata": {},
   "outputs": [
    {
     "name": "stdin",
     "output_type": "stream",
     "text": [
      "Enter any interger between 2 to 8: 10\n"
     ]
    },
    {
     "name": "stdout",
     "output_type": "stream",
     "text": [
      "number: 10\n"
     ]
    },
    {
     "ename": "ValueError",
     "evalue": "Value should be between 2 to 8",
     "output_type": "error",
     "traceback": [
      "\u001b[1;31m---------------------------------------------------------------------------\u001b[0m",
      "\u001b[1;31mValueError\u001b[0m                                Traceback (most recent call last)",
      "Cell \u001b[1;32mIn[105], line 6\u001b[0m\n\u001b[0;32m      4\u001b[0m \u001b[38;5;28mprint\u001b[39m(\u001b[38;5;124m\"\u001b[39m\u001b[38;5;124mnumber:\u001b[39m\u001b[38;5;124m\"\u001b[39m,num)\n\u001b[0;32m      5\u001b[0m \u001b[38;5;28;01mif\u001b[39;00m(num\u001b[38;5;241m<\u001b[39m\u001b[38;5;241m2\u001b[39m \u001b[38;5;129;01mor\u001b[39;00m num\u001b[38;5;241m>\u001b[39m\u001b[38;5;241m8\u001b[39m):\n\u001b[1;32m----> 6\u001b[0m     \u001b[38;5;28;01mraise\u001b[39;00m \u001b[38;5;167;01mValueError\u001b[39;00m(\u001b[38;5;124m\"\u001b[39m\u001b[38;5;124mValue should be between 2 to 8\u001b[39m\u001b[38;5;124m\"\u001b[39m)\n",
      "\u001b[1;31mValueError\u001b[0m: Value should be between 2 to 8"
     ]
    }
   ],
   "source": [
    "# raise custom error\n",
    "\n",
    "num = int(input(\"Enter any interger between 2 to 8:\"))\n",
    "print(\"number:\",num)\n",
    "if(num<2 or num>8):\n",
    "    raise ValueError(\"Value should be between 2 to 8\")"
   ]
  },
  {
   "cell_type": "code",
   "execution_count": 117,
   "id": "b9e6229b-2903-4746-8e37-ef458b7e5106",
   "metadata": {},
   "outputs": [
    {
     "name": "stdin",
     "output_type": "stream",
     "text": [
      "Enter actual word: mauna\n"
     ]
    },
    {
     "name": "stdout",
     "output_type": "stream",
     "text": [
      "Answer: ZDeaunamqaY\n",
      "decoded value: mauna\n"
     ]
    }
   ],
   "source": [
    "# Exercise-4: w.a.p to translate a message in a secret code language. as per the rules\n",
    "import random\n",
    "import string\n",
    "num_char = 3\n",
    "n = input(\"Enter actual word:\")\n",
    "rand_char1 = \"\".join(random.choices(string.ascii_letters,k=num_char))\n",
    "rand_char2 = \"\".join(random.choices(string.ascii_letters,k=num_char))\n",
    "if len(n)>=3:\n",
    "    a =n[1:] +n[0]\n",
    "    b = rand_char1 + a + rand_char2\n",
    "    print(\"Answer:\",b)\n",
    "else:\n",
    "    print(\"Answer:\",n[::-1])\n",
    "\n",
    "# decoding\n",
    "if len(n)<3:\n",
    "    print(\"decoded value:\",n[::-1])\n",
    "else:\n",
    "    y=b[3:-3]\n",
    "    print(\"decoded value:\",y[-1] + y[:-1])"
   ]
  },
  {
   "cell_type": "code",
   "execution_count": null,
   "id": "b362087d-9015-477a-a7a3-fed996eeed6f",
   "metadata": {},
   "outputs": [],
   "source": []
  }
 ],
 "metadata": {
  "kernelspec": {
   "display_name": "Python 3 (ipykernel)",
   "language": "python",
   "name": "python3"
  },
  "language_info": {
   "codemirror_mode": {
    "name": "ipython",
    "version": 3
   },
   "file_extension": ".py",
   "mimetype": "text/x-python",
   "name": "python",
   "nbconvert_exporter": "python",
   "pygments_lexer": "ipython3",
   "version": "3.12.3"
  }
 },
 "nbformat": 4,
 "nbformat_minor": 5
}
