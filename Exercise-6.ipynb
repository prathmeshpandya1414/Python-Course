{
 "cells": [
  {
   "cell_type": "code",
   "execution_count": 48,
   "id": "f1ff6455-1a56-4db4-b51b-d039541f1e93",
   "metadata": {},
   "outputs": [
    {
     "name": "stdout",
     "output_type": "stream",
     "text": [
      "john is a Data analyst.\n"
     ]
    }
   ],
   "source": [
    "#class and object\n",
    "class person: #class\n",
    "    name = \"john\"\n",
    "    age = 22\n",
    "    occupation = \"Data analyst\"\n",
    "    def info(self):\n",
    "        print(f\"{self.name} is a {self.occupation}.\")\n",
    "a = person() #object\n",
    "a.info()\n",
    "# print(a.name,a.occupation,a.age)"
   ]
  },
  {
   "cell_type": "code",
   "execution_count": 19,
   "id": "9f75f673-8844-4687-ac60-997bb60e95a5",
   "metadata": {},
   "outputs": [
    {
     "name": "stdout",
     "output_type": "stream",
     "text": [
      "Frog is a type of Amphibian\n"
     ]
    }
   ],
   "source": [
    "#constructor\n",
    "# default constructor have only one argument \"self\" itself.\n",
    "#parameterized constructor\n",
    "class kingdom:\n",
    "    def __init__(self,animal,species):\n",
    "        self.animal = animal\n",
    "        self.species = species\n",
    "a = kingdom(\"Frog\",\"Amphibian\")\n",
    "print(a.animal,\"is a type of\",a.species)"
   ]
  },
  {
   "cell_type": "code",
   "execution_count": 3,
   "id": "92d5e658-212a-4d17-8de3-4ba2d73c5cb2",
   "metadata": {},
   "outputs": [
    {
     "name": "stdout",
     "output_type": "stream",
     "text": [
      "Good Morning!!\n",
      "Hello World\n",
      "Thank you for using this function\n"
     ]
    }
   ],
   "source": [
    "#Decorator function\n",
    "\n",
    "def greet(fx):\n",
    "    def mfx():\n",
    "        print(\"Good Morning!!\")\n",
    "        fx()\n",
    "        print(\"Thank you for using this function\")\n",
    "    return mfx\n",
    "@greet\n",
    "def hello():\n",
    "    print(\"Hello World\")\n",
    "hello()"
   ]
  },
  {
   "cell_type": "code",
   "execution_count": 19,
   "id": "34cec26a-70fa-4b42-a0d2-4ae8e20e9568",
   "metadata": {},
   "outputs": [
    {
     "data": {
      "text/plain": [
       "20"
      ]
     },
     "execution_count": 19,
     "metadata": {},
     "output_type": "execute_result"
    }
   ],
   "source": [
    "#getters and setters\n",
    "\n",
    "class Myclass:\n",
    "    def __init__(self,values):\n",
    "        self._values = values\n",
    "        \n",
    "    @property #getter\n",
    "    def values(self):\n",
    "        return self._values\n",
    "\n",
    "    @values.setter #setter\n",
    "    def values(self, new_value):\n",
    "        self._values = new_value\n",
    "\n",
    "f = Myclass(10)\n",
    "f.values = 20\n",
    "f.values\n",
    "\n",
    "\n"
   ]
  },
  {
   "cell_type": "code",
   "execution_count": 43,
   "id": "d9a4b7f3-f82a-4655-bc89-c3c492ae9c21",
   "metadata": {},
   "outputs": [
    {
     "name": "stdout",
     "output_type": "stream",
     "text": [
      "Employee details: 400 is john\n",
      "Employee details: 620 is David\n",
      "The name of language is sanskrit\n"
     ]
    }
   ],
   "source": [
    "#inheritance\n",
    "\n",
    "class employee:\n",
    "    def __init__(self,id,name):\n",
    "        self.id = id\n",
    "        self.name = name\n",
    "    def showdetails(self):\n",
    "        print(f\"Employee details: {self.id} is {self.name}\")\n",
    "\n",
    "class programmer(employee):\n",
    "        def showlanguage(self):\n",
    "            print(\"The name of language is sanskrit\")\n",
    "\n",
    "e1 = employee(400,\"john\")\n",
    "e1.showdetails()\n",
    "\n",
    "e2 = programmer(620,\"David\")\n",
    "e2.showdetails()\n",
    "e2.showlanguage()\n"
   ]
  },
  {
   "cell_type": "code",
   "execution_count": 57,
   "id": "92eac88a-9902-4231-addf-5dce290bc33f",
   "metadata": {},
   "outputs": [
    {
     "name": "stdout",
     "output_type": "stream",
     "text": [
      "The Library has 5 books.The books are:\n",
      "DoEpicShit\n",
      "Harry Potter\n",
      "War and Peace\n",
      "The Republic\n",
      "To Kill a Mockingbird\n"
     ]
    }
   ],
   "source": [
    "'''Exercise-6: Write a Library class with no_of_books and books as two instance variables. Write a program to \n",
    "create a library from this Library class and show how you can print all books, add a book and get the number \n",
    "of books using different methods. Show that your program doesnt persist the books after the program is \n",
    "stopped!\n",
    "'''\n",
    "\n",
    "class Library:\n",
    "    def __init__(self):\n",
    "        self.no_of_books = 0\n",
    "        self.books = []\n",
    "    def addbook(self,book):\n",
    "        self.books.append(book)\n",
    "        self.no_of_books = len(self.books)\n",
    "    def showinfo(self):\n",
    "        print(f\"The Library has {self.no_of_books} books.The books are:\")\n",
    "        for book in self.books:\n",
    "            print(book)\n",
    "l1 = Library()\n",
    "l1.addbook(\"DoEpicShit\")\n",
    "l1.addbook(\"Harry Potter\")\n",
    "l1.addbook(\"War and Peace\")\n",
    "l1.addbook(\"The Republic\")\n",
    "l1.addbook(\"To Kill a Mockingbird\")\n",
    "l1.showinfo()\n",
    "\n"
   ]
  },
  {
   "cell_type": "code",
   "execution_count": null,
   "id": "367b3d28-30ac-4d64-87a8-93a7e408886a",
   "metadata": {},
   "outputs": [],
   "source": []
  }
 ],
 "metadata": {
  "kernelspec": {
   "display_name": "Python 3 (ipykernel)",
   "language": "python",
   "name": "python3"
  },
  "language_info": {
   "codemirror_mode": {
    "name": "ipython",
    "version": 3
   },
   "file_extension": ".py",
   "mimetype": "text/x-python",
   "name": "python",
   "nbconvert_exporter": "python",
   "pygments_lexer": "ipython3",
   "version": "3.12.3"
  }
 },
 "nbformat": 4,
 "nbformat_minor": 5
}
