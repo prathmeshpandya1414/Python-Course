{
 "cells": [
  {
   "cell_type": "code",
   "execution_count": 11,
   "id": "486a9f95-a70f-44ba-b984-19fdbb4e94ba",
   "metadata": {},
   "outputs": [
    {
     "name": "stdout",
     "output_type": "stream",
     "text": [
      "4i + 5j + 6k\n",
      "3i + 4j + 7k\n",
      "7i + 9j + 13k\n",
      "<class '__main__.vector'>\n"
     ]
    }
   ],
   "source": [
    "#operator overloading \n",
    "class vector:\n",
    "    def __init__(self,i,j,k):\n",
    "        self.i = i\n",
    "        self.j = j\n",
    "        self.k = k\n",
    "    def __str__(self):\n",
    "        return f\"{self.i}i + {self.j}j + {self.k}k\"\n",
    "    def __add__(self,x):\n",
    "        return vector(self.i + x.i, self.j + x.j, self.k + x.k) #operator overloading\n",
    "v1 = vector(4,5,6)\n",
    "v2= vector(3,4,7)\n",
    "print(v1)\n",
    "print(v2)\n",
    "print(v1+v2)\n",
    "print(type(v1+v2))"
   ]
  },
  {
   "cell_type": "code",
   "execution_count": 32,
   "id": "d67de6a7-4009-449e-8109-225f773a71d9",
   "metadata": {},
   "outputs": [
    {
     "name": "stdout",
     "output_type": "stream",
     "text": [
      "Simmba is a labrador and having black fur skin,It barks loud at strangers.\n",
      "[<class '__main__.dog'>, <class '__main__.animal'>, <class '__main__.mammal'>, <class 'object'>]\n"
     ]
    }
   ],
   "source": [
    "#multiple inheritance\n",
    "class animal:\n",
    "    def __init__(self,name,spec):\n",
    "        self.name = name\n",
    "        self.species = spec\n",
    "class mammal:\n",
    "    def __init__(self,name,fcolor):\n",
    "        self.name = name\n",
    "        self.fur_color = fcolor\n",
    "class dog(animal,mammal):\n",
    "    def __init__(self,name,breed,fcolor):\n",
    "        animal.__init__(self,name,spec=\"Dog\")\n",
    "        mammal.__init__(self,name,fcolor=\"black\")\n",
    "        self.breed = breed\n",
    "    def make_sound(self):\n",
    "        print(f\"{self.name} is a {self.breed} and having {self.fur_color} fur skin,It barks loud at strangers.\")\n",
    "d = dog(\"Simmba\",\"labrador\",\"black\")\n",
    "d.make_sound()\n",
    "print(dog.mro()) #method resoulution order"
   ]
  },
  {
   "cell_type": "code",
   "execution_count": 34,
   "id": "328c1792-dec8-451e-b5a0-ab529173a1d1",
   "metadata": {},
   "outputs": [
    {
     "name": "stdout",
     "output_type": "stream",
     "text": [
      "Name: tommy\n",
      "Species: Dog\n",
      "Breed: Golden Retriever\n",
      "[<class '__main__.GoldenRetriever'>, <class '__main__.Dog'>, <class '__main__.Animal'>, <class 'object'>]\n"
     ]
    }
   ],
   "source": [
    "#multilevel inheritance \n",
    "class Animal:\n",
    "    def __init__(self, name, species):\n",
    "        self.name = name\n",
    "        self.species = species\n",
    "        \n",
    "    def show_details(self):\n",
    "        print(f\"Name: {self.name}\")\n",
    "        print(f\"Species: {self.species}\")\n",
    "        \n",
    "class Dog(Animal):\n",
    "    def __init__(self, name, breed):\n",
    "        Animal.__init__(self, name, species=\"Dog\")\n",
    "        self.breed = breed\n",
    "        \n",
    "    def show_details(self):\n",
    "        Animal.show_details(self)\n",
    "        print(f\"Breed: {self.breed}\")\n",
    "        \n",
    "class GoldenRetriever(Dog):\n",
    "    def __init__(self, name, color):\n",
    "        Dog.__init__(self, name, breed=\"Golden Retriever\")\n",
    "        self.color = color\n",
    "        \n",
    "    def show_details(self):\n",
    "        Dog.show_details(self)\n",
    "        print(f\"Color: {self.color}\")\n",
    "\n",
    "o = Dog(\"tommy\", \"Golden Retriever\")\n",
    "o.show_details()\n",
    "print(GoldenRetriever.mro())"
   ]
  },
  {
   "cell_type": "code",
   "execution_count": 41,
   "id": "2453441f-b93e-46d7-80ce-360c4d0c00f7",
   "metadata": {},
   "outputs": [
    {
     "name": "stdout",
     "output_type": "stream",
     "text": [
      "Hey akshat !\n",
      "Hey krupal !\n",
      "Hey kushal !\n",
      "Hey parth !\n",
      "Hey mohit !\n",
      "Hey kumar !\n"
     ]
    }
   ],
   "source": [
    "#Exercise-9: wap to pronounce list of names using win32 api\n",
    "import win32com.client as win\n",
    "speaker = win.Dispatch(\"SAPI.spVoice\")\n",
    "\n",
    "list = ['akshat', 'krupal', 'kushal', 'parth', 'mohit', 'kumar']\n",
    "\n",
    "for i in list:\n",
    "    print(\"Hey \"+i,\"!\")\n",
    "for name in list:\n",
    "    names = name.split()\n",
    "    shoutout = f\"Hey {names[0]}!\"\n",
    "    speaker.Speak(shoutout)"
   ]
  },
  {
   "cell_type": "code",
   "execution_count": null,
   "id": "68ca5cc6-fef3-4582-83db-5753eff01bcf",
   "metadata": {},
   "outputs": [],
   "source": []
  }
 ],
 "metadata": {
  "kernelspec": {
   "display_name": "Python 3 (ipykernel)",
   "language": "python",
   "name": "python3"
  },
  "language_info": {
   "codemirror_mode": {
    "name": "ipython",
    "version": 3
   },
   "file_extension": ".py",
   "mimetype": "text/x-python",
   "name": "python",
   "nbconvert_exporter": "python",
   "pygments_lexer": "ipython3",
   "version": "3.12.3"
  }
 },
 "nbformat": 4,
 "nbformat_minor": 5
}
