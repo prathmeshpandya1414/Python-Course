{
 "cells": [
  {
   "cell_type": "code",
   "execution_count": 1,
   "id": "4706aac0-db94-43bc-8b1e-43c0ace47462",
   "metadata": {},
   "outputs": [
    {
     "name": "stdin",
     "output_type": "stream",
     "text": [
      "Enter a number: 0\n"
     ]
    },
    {
     "name": "stdout",
     "output_type": "stream",
     "text": [
      "x is zero\n"
     ]
    }
   ],
   "source": [
    "#match case statements\n",
    "\n",
    "x = int(input(\"Enter a number:\"))\n",
    "match x:\n",
    "    case 0:\n",
    "        print(\"x is zero\")\n",
    "    case 4:\n",
    "        print(\"x is four\")\n",
    "    case _:\n",
    "        print(x)"
   ]
  },
  {
   "cell_type": "code",
   "execution_count": 2,
   "id": "01dcc3c2-3443-461e-897b-290ad7a2a079",
   "metadata": {},
   "outputs": [
    {
     "name": "stdout",
     "output_type": "stream",
     "text": [
      "1,2,3,4,5,6,7,8,9,10,Blue\n",
      "Orange\n",
      "Yellow\n",
      "Pink\n"
     ]
    }
   ],
   "source": [
    "#for loops\n",
    "for i in range(1,11):\n",
    "    print(i,end=\",\")\n",
    "\n",
    "color = (\"Blue\",\"Orange\",\"Yellow\",\"Pink\")\n",
    "for i in color:\n",
    "    print(i)\n",
    "    "
   ]
  },
  {
   "cell_type": "code",
   "execution_count": 3,
   "id": "ec28c2e9-48e8-4373-b41f-0fb7f48c64a4",
   "metadata": {},
   "outputs": [
    {
     "name": "stdin",
     "output_type": "stream",
     "text": [
      "Enter a number: 9\n"
     ]
    },
    {
     "name": "stdout",
     "output_type": "stream",
     "text": [
      "0 1 2 3 4 5 6 7 8 "
     ]
    }
   ],
   "source": [
    "#while looping statement\n",
    "\n",
    "a = 0\n",
    "n = int(input(\"Enter a number:\"))\n",
    "while(a<n):\n",
    "    print(a,end=\" \")\n",
    "    a+=1"
   ]
  },
  {
   "cell_type": "code",
   "execution_count": 4,
   "id": "5998c633-4639-4844-93fc-cc78495d6fa7",
   "metadata": {},
   "outputs": [
    {
     "name": "stdout",
     "output_type": "stream",
     "text": [
      "2\n",
      "4\n",
      "6\n",
      "8\n",
      "0\n"
     ]
    }
   ],
   "source": [
    "#break and continue statements\n",
    "# n = int(input(\"Enter a number:\"))\n",
    "# for i in range(12):\n",
    "#     if(i==10):\n",
    "#         break\n",
    "#     print(n,\"X\",i+1,\"=\",n*(i+1) )\n",
    "\n",
    "n = [2,3,4,6,8,0]\n",
    "for i in n:\n",
    "    if(i%2!=0):\n",
    "        continue\n",
    "    print(i)  "
   ]
  },
  {
   "cell_type": "code",
   "execution_count": 7,
   "id": "3131ee39-c849-45ed-b0f2-a9d9a545b6cf",
   "metadata": {},
   "outputs": [
    {
     "name": "stdin",
     "output_type": "stream",
     "text": [
      "Enter first number: 8\n",
      "Enter second number: 9\n"
     ]
    },
    {
     "name": "stdout",
     "output_type": "stream",
     "text": [
      "18.0\n",
      "Hello, john ali fazal\n"
     ]
    }
   ],
   "source": [
    "#funtions(User-defined functions) and function argument\n",
    "a = int(input(\"Enter first number:\"))\n",
    "b = int(input(\"Enter second number:\"))\n",
    "def Gmean(a,b):\n",
    "    mean = (a*b)/a+b\n",
    "    print(mean)\n",
    "Gmean(a,b)\n",
    "\n",
    "def name(fname, mname, lname):\n",
    "    print(\"Hello,\",fname, mname, lname)\n",
    "name(fname='john', mname='ali',lname='fazal')"
   ]
  },
  {
   "cell_type": "code",
   "execution_count": 11,
   "id": "0e7b1abf-62d5-436c-a640-1c8385af00aa",
   "metadata": {},
   "outputs": [
    {
     "name": "stdout",
     "output_type": "stream",
     "text": [
      "<class 'list'>\n",
      "3\n",
      "5\n",
      "6\n",
      "john\n",
      "True\n"
     ]
    }
   ],
   "source": [
    "#list\n",
    "marks = [3,5,6,\"john\",True]\n",
    "print(type(marks))\n",
    "print(marks[0])\n",
    "print(marks[1])\n",
    "print(marks[2])\n",
    "print(marks[3])\n",
    "print(marks[4])"
   ]
  },
  {
   "cell_type": "code",
   "execution_count": 28,
   "id": "d60fc2d1-d37c-4d66-b100-717f91e49509",
   "metadata": {},
   "outputs": [
    {
     "name": "stdout",
     "output_type": "stream",
     "text": [
      "4\n",
      "2\n"
     ]
    },
    {
     "data": {
      "text/plain": [
       "[3, 2, 2, 54, 4, 6, 7, 8, 45, 50, 69, 100, 254, 486]"
      ]
     },
     "execution_count": 28,
     "metadata": {},
     "output_type": "execute_result"
    }
   ],
   "source": [
    "#list methods\n",
    "\n",
    "x = [50,45,69,1,2,4,6,7,2]\n",
    "x.append(8)\n",
    "x.sort()\n",
    "# x.reverse()\n",
    "print(x.index(6))\n",
    "print(x.count(2))\n",
    "x\n",
    "m = x.copy()\n",
    "m[0] = 3\n",
    "m.insert(3, 54)\n",
    "k = [100,254,486]\n",
    "m.extend(k)\n",
    "m\n"
   ]
  },
  {
   "cell_type": "code",
   "execution_count": 34,
   "id": "c47c60b9-c6b8-4439-a79c-d72217f776ed",
   "metadata": {},
   "outputs": [
    {
     "name": "stdout",
     "output_type": "stream",
     "text": [
      "<class 'tuple'> (1, 2, 3, 4, 54, 67)\n",
      "6\n",
      "(3, 4, 54)\n",
      "54\n"
     ]
    }
   ],
   "source": [
    "#tuple\n",
    "a = (1,2,3,4,54,67)\n",
    "print(type(a), a)\n",
    "print(len(a))\n",
    "print(a[2:5])\n",
    "print(a[4])"
   ]
  },
  {
   "cell_type": "code",
   "execution_count": 42,
   "id": "2f2805d5-984e-4aca-9590-439ca43a258f",
   "metadata": {},
   "outputs": [
    {
     "data": {
      "text/plain": [
       "('spain', 'india', 'usa', 'Uganda', 'gangtok')"
      ]
     },
     "execution_count": 42,
     "metadata": {},
     "output_type": "execute_result"
    }
   ],
   "source": [
    "#operations on tuple\n",
    "countries = (\"spain\",\"india\",\"hungary\",\"usa\",\"germany\")\n",
    "s = list(countries)\n",
    "s.append(\"gangtok\")\n",
    "s.pop(2)\n",
    "s[3]=\"Uganda\"\n",
    "countries = tuple(s)\n",
    "countries"
   ]
  },
  {
   "cell_type": "code",
   "execution_count": 18,
   "id": "2162aa85-933a-4cd3-b4b8-a3b443e28d6a",
   "metadata": {},
   "outputs": [
    {
     "name": "stdout",
     "output_type": "stream",
     "text": [
      "\n",
      "Questions of Rs. 1000 \n",
      "What is the capital of India?\n",
      "a. Mumbai      b. Kolkata\n",
      "c. New Delhi      d. Chennai\n"
     ]
    },
    {
     "name": "stdin",
     "output_type": "stream",
     "text": [
      "Enter your answer form 1-4 or 0 to quit 3\n"
     ]
    },
    {
     "name": "stdout",
     "output_type": "stream",
     "text": [
      "Correct Answer!!, you have won Rs. 1000\n",
      "\n",
      "Questions of Rs. 2000 \n",
      "Which planet is known as the Red Planet?\n",
      "a. Mars      b. Jupiter\n",
      "c. Venus      d. Saturn\n"
     ]
    },
    {
     "name": "stdin",
     "output_type": "stream",
     "text": [
      "Enter your answer form 1-4 or 0 to quit 1\n"
     ]
    },
    {
     "name": "stdout",
     "output_type": "stream",
     "text": [
      "Correct Answer!!, you have won Rs. 2000\n",
      "\n",
      "Questions of Rs. 3000 \n",
      "Which Indian cricketer is known as the Master Blaster?\n",
      "a. Virat Kohli      b. Sachin Tendulkar\n",
      "c. Hardik Pandya      d. Rohit Sharma\n"
     ]
    },
    {
     "name": "stdin",
     "output_type": "stream",
     "text": [
      "Enter your answer form 1-4 or 0 to quit 2\n"
     ]
    },
    {
     "name": "stdout",
     "output_type": "stream",
     "text": [
      "Correct Answer!!, you have won Rs. 3000\n",
      "\n",
      "Questions of Rs. 5000 \n",
      "Who wrote the national anthem of India Jana Gana Mana?\n",
      "a. Bankim chandra      b. R Tagore\n",
      "c. S Naidu      d. Mahatma Gandhi\n"
     ]
    },
    {
     "name": "stdin",
     "output_type": "stream",
     "text": [
      "Enter your answer form 1-4 or 0 to quit 2\n"
     ]
    },
    {
     "name": "stdout",
     "output_type": "stream",
     "text": [
      "Correct Answer!!, you have won Rs. 5000\n",
      "\n",
      "Questions of Rs. 10000 \n",
      "In computing what does URL stand for?\n",
      "a. Uniform Resource Locator      b. Universal Resource Locator\n",
      "c. Unique Resource Locator      d. Unified Resource Link\n"
     ]
    },
    {
     "name": "stdin",
     "output_type": "stream",
     "text": [
      "Enter your answer form 1-4 or 0 to quit 1\n"
     ]
    },
    {
     "name": "stdout",
     "output_type": "stream",
     "text": [
      "Correct Answer!!, you have won Rs. 10000\n",
      "\n",
      "Questions of Rs. 20000 \n",
      "Who was the first woman to win a Nobel Prize?\n",
      "a. Marie Curie      b.  Mother Teresa\n",
      "c. Florence Nightingale      d. Indira Gandhi\n"
     ]
    },
    {
     "name": "stdin",
     "output_type": "stream",
     "text": [
      "Enter your answer form 1-4 or 0 to quit 1\n"
     ]
    },
    {
     "name": "stdout",
     "output_type": "stream",
     "text": [
      "Correct Answer!!, you have won Rs. 20000\n",
      "\n",
      "Questions of Rs. 40000 \n",
      "In which year did India gain independence from British rule?\n",
      "a. 1945      b. 1947\n",
      "c. 1950      d. 1952\n"
     ]
    },
    {
     "name": "stdin",
     "output_type": "stream",
     "text": [
      "Enter your answer form 1-4 or 0 to quit 1\n"
     ]
    },
    {
     "name": "stdout",
     "output_type": "stream",
     "text": [
      "Correct Answer!!, you have won Rs. 40000\n",
      "\n",
      "Questions of Rs. 80000 \n",
      "Which monument is known as the Symbol of Love?\n",
      "a. Red Fort      b. India Gate\n",
      "c. Taj Mahal      d. Gateway of India\n"
     ]
    },
    {
     "name": "stdin",
     "output_type": "stream",
     "text": [
      "Enter your answer form 1-4 or 0 to quit 3\n"
     ]
    },
    {
     "name": "stdout",
     "output_type": "stream",
     "text": [
      "Correct Answer!!, you have won Rs. 80000\n",
      "\n",
      "Questions of Rs. 160000 \n",
      "What is the chemical symbol for water?\n",
      "a. O2      b. H2O\n",
      "c. CO2      d. NaCl\n"
     ]
    },
    {
     "name": "stdin",
     "output_type": "stream",
     "text": [
      "Enter your answer form 1-4 or 0 to quit 2\n"
     ]
    },
    {
     "name": "stdout",
     "output_type": "stream",
     "text": [
      "Correct Answer!!, you have won Rs. 160000\n",
      "\n",
      "Questions of Rs. 320000 \n",
      "Which organ in the human body is responsible for pumping blood?\n",
      "a. Brain      b. Heart\n",
      "c. Liver      d. Kidneys\n"
     ]
    },
    {
     "name": "stdin",
     "output_type": "stream",
     "text": [
      "Enter your answer form 1-4 or 0 to quit 2\n"
     ]
    },
    {
     "name": "stdout",
     "output_type": "stream",
     "text": [
      "Correct Answer!!, you have won Rs. 320000\n",
      "\n",
      "Questions of Rs. 640000 \n",
      "Who is known as the King of Bollywood?\n",
      "a. Salman Khan      b. Aamir Khan\n",
      "c. Shah Rukh Khan      d. Amitabh Bachchan\n"
     ]
    },
    {
     "name": "stdin",
     "output_type": "stream",
     "text": [
      "Enter your answer form 1-4 or 0 to quit 3\n"
     ]
    },
    {
     "name": "stdout",
     "output_type": "stream",
     "text": [
      "Correct Answer!!, you have won Rs. 640000\n",
      "\n",
      "Questions of Rs. 1250000 \n",
      "Which country has won the most FIFA World Cups?\n",
      "a. Germany      b. Argentina\n",
      "c. Brazil      d. Italy\n"
     ]
    },
    {
     "name": "stdin",
     "output_type": "stream",
     "text": [
      "Enter your answer form 1-4 or 0 to quit 1\n"
     ]
    },
    {
     "name": "stdout",
     "output_type": "stream",
     "text": [
      "Wrong Answer!\n",
      "Your take home money is 3200000\n"
     ]
    }
   ],
   "source": [
    "# Exercise-3: Create a program capable of displaying questions to the user like KBC\n",
    "\n",
    "questions= [\n",
    "    [\"What is the capital of India?\", \"Mumbai\",\"Kolkata\",\"New Delhi\",\"Chennai\",3],\n",
    "    [\"Which planet is known as the Red Planet?\", \"Mars\",\"Jupiter\",\"Venus\",\"Saturn\",1],\n",
    "    [\"Which Indian cricketer is known as the Master Blaster?\", \"Virat Kohli\",\"Sachin Tendulkar\",\"Hardik Pandya\",\"Rohit Sharma\",2],\n",
    "    [\"Who wrote the national anthem of India Jana Gana Mana?\", \"Bankim chandra\",\"R Tagore\",\"S Naidu\",\"Mahatma Gandhi\",2],\n",
    "    [\"In computing what does URL stand for?\", \"Uniform Resource Locator\",\"Universal Resource Locator\",\"Unique Resource Locator\",\"Unified Resource Link\",1],\n",
    "    [\"Who was the first woman to win a Nobel Prize?\", \"Marie Curie\",\" Mother Teresa\",\"Florence Nightingale\",\"Indira Gandhi\",1],\n",
    "    [\"In which year did India gain independence from British rule?\", \"1945\",\"1947\",\"1950\",\"1952\",1],\n",
    "    [\"Which monument is known as the Symbol of Love?\", \"Red Fort\",\"India Gate\",\"Taj Mahal\",\"Gateway of India\",3],\n",
    "    [\"What is the chemical symbol for water?\", \"O2\",\"H2O\",\"CO2\",\"NaCl\",2],\n",
    "    [\"Which organ in the human body is responsible for pumping blood?\", \"Brain\",\"Heart\",\"Liver\",\"Kidneys\",2],\n",
    "    [\"Who is known as the King of Bollywood?\", \"Salman Khan\",\"Aamir Khan\",\"Shah Rukh Khan\",\"Amitabh Bachchan\",3],\n",
    "    [\"Which country has won the most FIFA World Cups?\", \"Germany\",\"Argentina\",\"Brazil\",\"Italy\",3],\n",
    "    [\"What is the currency of Japan?\", \"dollar\",\"Yen\",\"ruppes\",\"dirham\",2],\n",
    "    [\"Which ancient Indian text is known as the Science of Life?\", \"Bhagavad Gita\",\"Ayurveda\",\"Arthashastra\",\"Ramayana\",2],\n",
    "    [\"What natural phenomenon is also referred to as the Aurora Borealis?\", \" Solar Eclipse\",\"Lunar Eclipse\",\"Northern Lights\",\"Shooting Stars\",3],\n",
    "\n",
    "]\n",
    "price = [1000,2000,3000,5000,10000,20000,40000,80000,160000,320000,\"640000\",\"1250000\",\"2500000\",\"5000000\",\"10000000\"]\n",
    "money=0\n",
    "for i in range(0,len(questions)):\n",
    "    question = questions[i]\n",
    "    print(f\"\\nQuestions of Rs. {price[i]} \")\n",
    "    print(question[0])\n",
    "    print(f\"a. {question[1]}      b. {question[2]}\")\n",
    "    print(f\"c. {question[3]}      d. {question[4]}\")\n",
    "    reply= int(input(\"Enter your answer form 1-4 or 0 to quit\"))\n",
    "    if(reply==0):\n",
    "        \n",
    "        money = price[i-1]\n",
    "        break\n",
    "    elif(reply==question[-1]):\n",
    "        print(f\"Correct Answer!!, you have won Rs. {price[i]}\")\n",
    "        if(i==0):\n",
    "            money=0\n",
    "        elif(i==4):\n",
    "            money=10000\n",
    "        elif(i==10):\n",
    "            money=3200000\n",
    "        elif(i==14):\n",
    "            money=10000000\n",
    "    else:\n",
    "        print(\"Wrong Answer!\")\n",
    "        break\n",
    "\n",
    "print(f\"Your take home money is {money}\")\n",
    "            "
   ]
  },
  {
   "cell_type": "code",
   "execution_count": null,
   "id": "ef9b8245-dfd8-456e-b40e-e63af8d03078",
   "metadata": {},
   "outputs": [],
   "source": []
  }
 ],
 "metadata": {
  "kernelspec": {
   "display_name": "Python 3 (ipykernel)",
   "language": "python",
   "name": "python3"
  },
  "language_info": {
   "codemirror_mode": {
    "name": "ipython",
    "version": 3
   },
   "file_extension": ".py",
   "mimetype": "text/x-python",
   "name": "python",
   "nbconvert_exporter": "python",
   "pygments_lexer": "ipython3",
   "version": "3.12.3"
  }
 },
 "nbformat": 4,
 "nbformat_minor": 5
}
