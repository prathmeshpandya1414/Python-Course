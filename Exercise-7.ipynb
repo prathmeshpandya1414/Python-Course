{
 "cells": [
  {
   "cell_type": "code",
   "execution_count": 8,
   "id": "3fdfcfdc-9c50-410c-880c-0cd2b058171e",
   "metadata": {},
   "outputs": [
    {
     "name": "stdout",
     "output_type": "stream",
     "text": [
      "5\n"
     ]
    }
   ],
   "source": [
    "#static method\n",
    "\n",
    "class math:\n",
    "    @staticmethod\n",
    "    def add(a,b):\n",
    "        add = a+b\n",
    "        return add\n",
    "c = math.add(2,3)\n",
    "print(c)"
   ]
  },
  {
   "cell_type": "code",
   "execution_count": 15,
   "id": "b37dc5c0-1342-4b45-a1d4-d8cb638e6d42",
   "metadata": {},
   "outputs": [
    {
     "name": "stdout",
     "output_type": "stream",
     "text": [
      "1.png\n",
      "pngegg (2).png\n",
      "pngegg (3).png\n",
      "pngegg (4).png\n",
      "pngegg (5).png\n",
      "pngegg (6).png\n",
      "pngegg (7).png\n",
      "pngegg.png\n"
     ]
    }
   ],
   "source": [
    "#Exercise-7: Write a program to clear the clutter inside a folder on your computer. You should use os module \n",
    "# to rename all the png images from 1.png all the way till n.png where n is the number of png files in that \n",
    "# folder. Do the same for other file formats.\n",
    "\n",
    "import os\n",
    "\n",
    "files = os.listdir(\"cluttered folder\")\n",
    "i=1\n",
    "for file in files:\n",
    "    if file.endswith(\".png\"):\n",
    "        print(file)\n",
    "        os.rename(f\"cluttered folder/{file}\",f\"cluttered folder/{i}.png\")\n",
    "        i = i+1\n"
   ]
  },
  {
   "cell_type": "code",
   "execution_count": null,
   "id": "310d63ff-8516-4a58-80f7-4399f1dcaaec",
   "metadata": {},
   "outputs": [],
   "source": []
  }
 ],
 "metadata": {
  "kernelspec": {
   "display_name": "Python 3 (ipykernel)",
   "language": "python",
   "name": "python3"
  },
  "language_info": {
   "codemirror_mode": {
    "name": "ipython",
    "version": 3
   },
   "file_extension": ".py",
   "mimetype": "text/x-python",
   "name": "python",
   "nbconvert_exporter": "python",
   "pygments_lexer": "ipython3",
   "version": "3.12.3"
  }
 },
 "nbformat": 4,
 "nbformat_minor": 5
}
