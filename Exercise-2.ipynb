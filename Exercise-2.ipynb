{
 "cells": [
  {
   "cell_type": "code",
   "execution_count": 4,
   "id": "0d2d21a5-bc02-49ee-a561-2d42ede9fb2d",
   "metadata": {
    "scrolled": true
   },
   "outputs": [
    {
     "name": "stdout",
     "output_type": "stream",
     "text": [
      "4\n",
      "5.9\n"
     ]
    }
   ],
   "source": [
    "#expicit_typecasting \n",
    "a = \"1\"\n",
    "b = \"3\"\n",
    "print(int(a) + int(b))\n",
    "\n",
    "#implicit_typecasting\n",
    "a = 2.9\n",
    "b = 3\n",
    "print(a+b)"
   ]
  },
  {
   "cell_type": "code",
   "execution_count": 7,
   "id": "595d5220-ff45-4687-9ea1-7c84035e752c",
   "metadata": {},
   "outputs": [
    {
     "name": "stdout",
     "output_type": "stream",
     "text": [
      "Hello\n",
      "H\n",
      "l\n"
     ]
    }
   ],
   "source": [
    "#strings in python \n",
    "a = 'Hello'\n",
    "print(a)\n",
    "print(a[0]) #indexing\n",
    "print(a[3]) "
   ]
  },
  {
   "cell_type": "code",
   "execution_count": 11,
   "id": "10e1ea89-9edd-44d2-b21a-3ecedb60f858",
   "metadata": {},
   "outputs": [
    {
     "name": "stdout",
     "output_type": "stream",
     "text": [
      "an\n",
      "n\n"
     ]
    }
   ],
   "source": [
    "#slicing and operations in string\n",
    "fruit = \"Orange\"\n",
    "print(fruit[2:4]) # including 2 but one index less than 4\n",
    "print(fruit[-3:-2]) # -3 => len(fruit)-3='2'"
   ]
  },
  {
   "cell_type": "code",
   "execution_count": 37,
   "id": "a18acc39-a073-4598-ada8-02fa2e932f4b",
   "metadata": {},
   "outputs": [
    {
     "name": "stdout",
     "output_type": "stream",
     "text": [
      "!!!ROHAN  !!!!!! NAMAN ROHAN\n",
      "!!!rohan  !!!!!! naman rohan\n",
      "!!!rohan  !!!!!! naman rohan\n",
      "!!!rohan  !!!!!! naman rohan\n",
      "['!!!rohan', '!!!!!!', 'naman', 'rohan']\n",
      "!!!max  !!!!!! naman max\n",
      "2\n",
      "True\n",
      "8\n",
      "True\n",
      "False\n",
      "False\n"
     ]
    }
   ],
   "source": [
    "#methods in string\n",
    "a = \"!!!rohan  !!!!!! naman rohan\"\n",
    "print(a.upper())\n",
    "print(a.lower())\n",
    "print(a.capitalize())\n",
    "print(a.rstrip('!'))\n",
    "print(a.split())\n",
    "print(a.replace(\"rohan\", \"max\"))\n",
    "print(a.count(\"rohan\"))\n",
    "str = \"welcome to the game\"\n",
    "print(str.endswith(\"to\", 4, 10))\n",
    "print(str.find(\"to\"))\n",
    "print(str.islower())\n",
    "print(str.isalpha())\n",
    "print(a.isspace())"
   ]
  },
  {
   "cell_type": "code",
   "execution_count": 39,
   "id": "be870f19-b595-46b3-97b9-30c9762ad623",
   "metadata": {},
   "outputs": [
    {
     "name": "stdin",
     "output_type": "stream",
     "text": [
      "Enter a number: -78\n"
     ]
    },
    {
     "name": "stdout",
     "output_type": "stream",
     "text": [
      "Negative\n"
     ]
    }
   ],
   "source": [
    "#if-else and elif statements\n",
    "\n",
    "num = int(input(\"Enter a number:\"))\n",
    "if(num>0):\n",
    "    print(\"Positive\")\n",
    "elif(num==0):\n",
    "    print(\"Zero\")\n",
    "else:\n",
    "    print(\"Negative\")"
   ]
  },
  {
   "cell_type": "code",
   "execution_count": 52,
   "id": "25a17225-a0f9-417f-bf16-03132cac0bf7",
   "metadata": {},
   "outputs": [
    {
     "name": "stdin",
     "output_type": "stream",
     "text": [
      "Enter hour: 0\n"
     ]
    },
    {
     "name": "stdout",
     "output_type": "stream",
     "text": [
      "0\n",
      "Good Morning\n"
     ]
    }
   ],
   "source": [
    "# Exercise-2: a greeting code that gives good morning, evening or afternoon according to the time period.\n",
    "import time\n",
    "timestamp = time.strftime('%H,%M,%S')\n",
    "# hour = int(time.strftime('%H'))\n",
    "hour = int(input(\"Enter hour:\"))\n",
    "print(hour)\n",
    "\n",
    "if(hour>=0 and hour<12):\n",
    "    print(\"Good Morning\")\n",
    "elif(hour>=12 and hour<=16):\n",
    "    print(\"Good Afternoon\")\n",
    "else:\n",
    "    print(\"Good evening\")\n",
    "\n"
   ]
  },
  {
   "cell_type": "code",
   "execution_count": null,
   "id": "45576400-d5a5-4fe9-ac2d-8f8370246594",
   "metadata": {},
   "outputs": [],
   "source": []
  }
 ],
 "metadata": {
  "kernelspec": {
   "display_name": "Python 3 (ipykernel)",
   "language": "python",
   "name": "python3"
  },
  "language_info": {
   "codemirror_mode": {
    "name": "ipython",
    "version": 3
   },
   "file_extension": ".py",
   "mimetype": "text/x-python",
   "name": "python",
   "nbconvert_exporter": "python",
   "pygments_lexer": "ipython3",
   "version": "3.12.3"
  }
 },
 "nbformat": 4,
 "nbformat_minor": 5
}
