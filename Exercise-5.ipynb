{
 "cells": [
  {
   "cell_type": "code",
   "execution_count": 4,
   "id": "5631b04a-cc06-4bb5-9ddc-2c075135ce58",
   "metadata": {},
   "outputs": [
    {
     "name": "stdout",
     "output_type": "stream",
     "text": [
      "U\n"
     ]
    }
   ],
   "source": [
    "# shorthand if-else statements\n",
    "a = 2000\n",
    "b = 1800\n",
    "print(\"G\") if a<b else print(\"=\") if(a==b) else print(\"U\")"
   ]
  },
  {
   "cell_type": "code",
   "execution_count": 83,
   "id": "e1819dcb-541a-429b-a5cc-e68eae0444ec",
   "metadata": {},
   "outputs": [
    {
     "name": "stdout",
     "output_type": "stream",
     "text": [
      "23\n",
      "45\n",
      "60\n",
      "Awesome, work hard!!\n",
      "98\n",
      "78\n",
      "88\n"
     ]
    }
   ],
   "source": [
    "#Enumerate function\n",
    "marks = [23,45,60,98,78,88]\n",
    "for index,i in enumerate(marks,start=1):\n",
    "    print(i)\n",
    "    if(index==3):\n",
    "        print(\"Awesome, work hard!!\")"
   ]
  },
  {
   "cell_type": "code",
   "execution_count": 2,
   "id": "cc589080-6715-4a05-9952-41ed186a7a0c",
   "metadata": {},
   "outputs": [
    {
     "name": "stdout",
     "output_type": "stream",
     "text": [
      "5\n",
      "10\n"
     ]
    }
   ],
   "source": [
    "#local and global variable\n",
    "x = 10 #global var.\n",
    "\n",
    "def func():\n",
    "    y=5 #local var.\n",
    "    print(y)\n",
    "\n",
    "func()\n",
    "print(x)\n",
    "# print(y) it will create an error as it is printed outside the function\n"
   ]
  },
  {
   "cell_type": "code",
   "execution_count": 42,
   "id": "a245ef20-67f2-486f-bc09-d348c9741e4b",
   "metadata": {},
   "outputs": [
    {
     "name": "stdout",
     "output_type": "stream",
     "text": [
      "Hey, how are you doing?\n"
     ]
    }
   ],
   "source": [
    "#file io\n",
    "#reading to a file\n",
    "f = open('myfile.txt','r')\n",
    "text = f.read()\n",
    "print(text)\n",
    "\n",
    "#writing to a file\n",
    "# f = open('myfile.txt','a')\n",
    "# text = f.write(\"Hello! World\")\n",
    "# f.close()\n",
    "\n",
    "with open('myfile.txt','a') as f:\n",
    "    f.write(\"Hey, how are you doing?\")"
   ]
  },
  {
   "cell_type": "code",
   "execution_count": 48,
   "id": "9759f2a8-9eba-4895-b546-3364a72c15b6",
   "metadata": {},
   "outputs": [],
   "source": [
    "#readlines() and writelines()\n",
    "\n",
    "# with open('myfile.txt','r') as f:\n",
    "#     while True:\n",
    "#         lines = f.readline()\n",
    "#         if not lines:\n",
    "#             break\n",
    "#         print(lines)\n",
    "\n",
    "with open('myfile.txt','w') as f:\n",
    "    lines = [\"line 1\\n\", \"line 2\\n\", \"line 3\\n\"]\n",
    "    f.writelines(lines)\n",
    "    "
   ]
  },
  {
   "cell_type": "code",
   "execution_count": 84,
   "id": "ff3da528-1e10-4168-ac0e-9107c13091b9",
   "metadata": {},
   "outputs": [
    {
     "name": "stdout",
     "output_type": "stream",
     "text": [
      "10\n",
      "ts in\n"
     ]
    }
   ],
   "source": [
    "#seek(),tell()\n",
    "with open('myfile.txt','r') as f:\n",
    "    f.seek(10)\n",
    "    print(f.tell())\n",
    "    data = f.read(5)\n",
    "    print(data)"
   ]
  },
  {
   "cell_type": "code",
   "execution_count": 60,
   "id": "1d92640b-f0f5-4101-99ad-43f0a0817610",
   "metadata": {},
   "outputs": [
    {
     "name": "stdout",
     "output_type": "stream",
     "text": [
      "4\n",
      "125\n",
      "6.0\n"
     ]
    }
   ],
   "source": [
    "#lambda function\n",
    "\n",
    "double = lambda x: x*2\n",
    "cube = lambda x: x*x*x\n",
    "avg = lambda x, y: (x+y)/2\n",
    "print(double(2))\n",
    "print(cube(5))\n",
    "print(avg(5,7))"
   ]
  },
  {
   "cell_type": "code",
   "execution_count": 70,
   "id": "121235c8-8110-4ab6-9a5f-deb38c3e5d23",
   "metadata": {},
   "outputs": [
    {
     "name": "stdout",
     "output_type": "stream",
     "text": [
      "maped value: [1, 4, 9, 16, 25, 36]\n",
      "filtered value: [4, 5, 6]\n",
      "reduced value: 21\n"
     ]
    }
   ],
   "source": [
    "#map,filter and reduce\n",
    "from functools import reduce\n",
    "l = [1,2,3,4,5,6]\n",
    "a = list(map(lambda x: x*x, l))\n",
    "print(\"maped value:\",a)\n",
    "\n",
    "b = list(filter(lambda x:x>3, l))\n",
    "print(\"filtered value:\",b)\n",
    "\n",
    "c = reduce(lambda x, y:x+y, l)\n",
    "print(\"reduced value:\",c)\n"
   ]
  },
  {
   "cell_type": "code",
   "execution_count": 82,
   "id": "35625924-3f6b-4968-90e2-5af84bc40fc6",
   "metadata": {},
   "outputs": [
    {
     "name": "stdin",
     "output_type": "stream",
     "text": [
      "Enter 0 for rock, 1 for paper, 2 for scissor: 2\n"
     ]
    },
    {
     "name": "stdout",
     "output_type": "stream",
     "text": [
      "you: 2\n",
      "computer: 1\n",
      "You have won the game!!\n"
     ]
    }
   ],
   "source": [
    "# Exercise-5: Rock, paper and scissor game\n",
    "import random\n",
    "def check(comp, user):\n",
    "    if(comp==user):\n",
    "        return 0\n",
    "    elif(comp==1 and user==0):\n",
    "        return -1\n",
    "    elif(comp==0 and user==2):\n",
    "        return -1\n",
    "    elif(comp==2 and user==1):\n",
    "        return -1\n",
    "    else:\n",
    "        return 1\n",
    "        \n",
    "comp = random.randint(0,2)\n",
    "user = int(input(\"Enter 0 for rock, 1 for paper, 2 for scissor:\"))\n",
    "print(\"you:\",user)\n",
    "print(\"computer:\",comp)\n",
    "score = check(comp, user)\n",
    "if score==0:\n",
    "    print(\"It's a draw\")\n",
    "elif score==-1:\n",
    "    print(\"You lose the game\")\n",
    "else:\n",
    "    print(\"You have won the game!!\")\n",
    "\n",
    "        "
   ]
  },
  {
   "cell_type": "code",
   "execution_count": null,
   "id": "9bd93494-c1ae-4b96-8573-3043eea18abe",
   "metadata": {},
   "outputs": [],
   "source": []
  }
 ],
 "metadata": {
  "kernelspec": {
   "display_name": "Python 3 (ipykernel)",
   "language": "python",
   "name": "python3"
  },
  "language_info": {
   "codemirror_mode": {
    "name": "ipython",
    "version": 3
   },
   "file_extension": ".py",
   "mimetype": "text/x-python",
   "name": "python",
   "nbconvert_exporter": "python",
   "pygments_lexer": "ipython3",
   "version": "3.12.3"
  }
 },
 "nbformat": 4,
 "nbformat_minor": 5
}
