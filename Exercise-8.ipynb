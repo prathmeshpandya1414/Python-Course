{
 "cells": [
  {
   "cell_type": "code",
   "execution_count": 8,
   "id": "47e73116-9d68-4dbf-b1f8-144ade1459b2",
   "metadata": {},
   "outputs": [
    {
     "name": "stdout",
     "output_type": "stream",
     "text": [
      "Yusuf is working in Google\n",
      "Yusuf is working in Tesla\n",
      "Tesla\n"
     ]
    }
   ],
   "source": [
    "#class method\n",
    "\n",
    "class Employee:\n",
    "    company = \"Google\"\n",
    "    def show(self):\n",
    "        print(f\"{self.name} is working in {self.company}\")\n",
    "    @classmethod\n",
    "    def changecompany(cls,newcompany):\n",
    "        cls.company = newcompany\n",
    "\n",
    "e1 = Employee()\n",
    "e1.name = \"Yusuf\"\n",
    "e1.show()\n",
    "e1.changecompany(\"Tesla\")\n",
    "e1.show()\n",
    "print(Employee.company)"
   ]
  },
  {
   "cell_type": "code",
   "execution_count": 13,
   "id": "268a9a2a-ef02-4d0c-b90e-16adbfe44b20",
   "metadata": {},
   "outputs": [
    {
     "name": "stdout",
     "output_type": "stream",
     "text": [
      "john 24\n",
      "I am john and am 24 years old.\n"
     ]
    }
   ],
   "source": [
    "#alternative class method\n",
    "\n",
    "class person:\n",
    "    def __init__(self, name, age):\n",
    "        self.name = name\n",
    "        self.age = age\n",
    "    def show(self):\n",
    "        print(f\"I am {self.name} and am {self.age} years old.\")\n",
    "    @classmethod\n",
    "    def from_str(cls,str):\n",
    "        name, age = str.split(\",\")\n",
    "        return cls(name, int(age))\n",
    "\n",
    "p = person.from_str(\"john, 24\")\n",
    "print(p.name, p.age)\n",
    "p.show()"
   ]
  },
  {
   "cell_type": "code",
   "execution_count": 19,
   "id": "4a6baf99-eab6-439a-8b1d-bac8ee0189b1",
   "metadata": {},
   "outputs": [
    {
     "name": "stdout",
     "output_type": "stream",
     "text": [
      "{'name': 'garry', 'age': 45}\n",
      "Help on class person in module __main__:\n",
      "\n",
      "class person(builtins.object)\n",
      " |  person(name, age)\n",
      " |\n",
      " |  Methods defined here:\n",
      " |\n",
      " |  __init__(self, name, age)\n",
      " |      Initialize self.  See help(type(self)) for accurate signature.\n",
      " |\n",
      " |  ----------------------------------------------------------------------\n",
      " |  Data descriptors defined here:\n",
      " |\n",
      " |  __dict__\n",
      " |      dictionary for instance variables\n",
      " |\n",
      " |  __weakref__\n",
      " |      list of weak references to the object\n",
      "\n",
      "None\n"
     ]
    }
   ],
   "source": [
    "#dir(), __dict__, help method\n",
    "\n",
    "# a = {1,2,3}\n",
    "# print(dir(a))\n",
    "\n",
    "class person:\n",
    "    def __init__(self,name,age):\n",
    "        self.name = name\n",
    "        self.age = age\n",
    "\n",
    "p = person(\"garry\",45)\n",
    "print(p.__dict__)\n",
    "\n",
    "print(help(person))"
   ]
  },
  {
   "cell_type": "code",
   "execution_count": 4,
   "id": "d3c51308-0669-465b-9019-d621e1f5afa0",
   "metadata": {},
   "outputs": [
    {
     "name": "stdout",
     "output_type": "stream",
     "text": [
      "This is the child method.\n",
      "This is the parents method.\n"
     ]
    }
   ],
   "source": [
    "#super keyword\n",
    "\n",
    "class parent:\n",
    "    def parentmethod(self):\n",
    "        print(\"This is the parents method.\")\n",
    "class child(parent):\n",
    "    def childmethod(self):\n",
    "        print(\"This is the child method.\")\n",
    "        super().parentmethod()\n",
    "cobj = child()\n",
    "cobj.childmethod()"
   ]
  },
  {
   "cell_type": "code",
   "execution_count": 19,
   "id": "98119e1b-3c1d-4f5b-96c2-e522f362a751",
   "metadata": {},
   "outputs": [
    {
     "name": "stdout",
     "output_type": "stream",
     "text": [
      "Hey I am gurleen\n",
      "I am 23 year old\n",
      "Hello World\n"
     ]
    }
   ],
   "source": [
    "#dunder methods\n",
    "class person:\n",
    "    def __init__(self,name,age):\n",
    "        self.name = \"gurleen\"\n",
    "        self.age = 23\n",
    "    def __str__(self): #dunder method\n",
    "        return f\"Hey I am {self.name}\"\n",
    "\n",
    "    def __repr__(self): #dunder method\n",
    "        return f\"I am {self.age} year old\"\n",
    "\n",
    "    def __call__(self): #dunder method\n",
    "        print(\"Hello World\")\n",
    "\n",
    "p = person(\"gurleen\", 23)\n",
    "print(str(p)) \n",
    "print(repr(p))\n",
    "p() # call method"
   ]
  },
  {
   "cell_type": "code",
   "execution_count": 32,
   "id": "a8332b81-4f49-4639-a04e-3d1c6466c1cf",
   "metadata": {},
   "outputs": [
    {
     "name": "stdout",
     "output_type": "stream",
     "text": [
      "15\n",
      "78.5\n"
     ]
    }
   ],
   "source": [
    "#method overriding \n",
    "\n",
    "class shape:\n",
    "    def __init__(self,x,y):\n",
    "        self.x = x\n",
    "        self.y = y\n",
    "    def area(self):\n",
    "        return self.x * self.y\n",
    "                    \n",
    "class circle(shape):\n",
    "    def __init__(self,r):\n",
    "        self.radius = r\n",
    "        super().__init__(r,r) #method overriding\n",
    "        \n",
    "    def area(self):\n",
    "        return 3.14 * super().area() \n",
    "\n",
    "s = shape(3,5)\n",
    "print(s.area())\n",
    "c = circle(5)\n",
    "print(c.area())"
   ]
  },
  {
   "cell_type": "code",
   "execution_count": 38,
   "id": "cccbb882-4e9b-48b2-9271-656d199830ca",
   "metadata": {},
   "outputs": [],
   "source": [
    "#Exercise-8: Merge multiple pdf into a single pdf using pypdf\n",
    "from pypdf import PdfWriter\n",
    "\n",
    "merger = PdfWriter()\n",
    "\n",
    "for pdf in [\"5_LSTM.pdf\", \"5_RBFN.pdf\", \"5_RNN.pdf\"]:\n",
    "    merger.append(pdf)\n",
    "\n",
    "merger.write(\"merged-pdf.pdf\")\n",
    "merger.close()"
   ]
  },
  {
   "cell_type": "code",
   "execution_count": null,
   "id": "670641a1-ad6d-474a-85cd-fb478b57b230",
   "metadata": {},
   "outputs": [],
   "source": []
  }
 ],
 "metadata": {
  "kernelspec": {
   "display_name": "Python 3 (ipykernel)",
   "language": "python",
   "name": "python3"
  },
  "language_info": {
   "codemirror_mode": {
    "name": "ipython",
    "version": 3
   },
   "file_extension": ".py",
   "mimetype": "text/x-python",
   "name": "python",
   "nbconvert_exporter": "python",
   "pygments_lexer": "ipython3",
   "version": "3.12.3"
  }
 },
 "nbformat": 4,
 "nbformat_minor": 5
}
