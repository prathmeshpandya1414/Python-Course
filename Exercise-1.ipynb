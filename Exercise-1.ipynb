{
 "cells": [
  {
   "cell_type": "code",
   "execution_count": 15,
   "id": "a695708b-eb9b-4757-952e-6cdeef3c32c5",
   "metadata": {},
   "outputs": [
    {
     "name": "stdout",
     "output_type": "stream",
     "text": [
      "Hello World\n",
      "5\n"
     ]
    }
   ],
   "source": [
    "# First Basic code(Print Statements)\n",
    "print(\"Hello World\")\n",
    "print(5)\n"
   ]
  },
  {
   "cell_type": "code",
   "execution_count": 24,
   "id": "99641464-05c8-4cec-b236-3894351c32dd",
   "metadata": {},
   "outputs": [
    {
     "name": "stdout",
     "output_type": "stream",
     "text": [
      "Hello World \n",
      "How are you?\n",
      "Hello world \"wassup!!\" how are you?\n",
      "hello~7~8 yooo\n"
     ]
    }
   ],
   "source": [
    "# Escape Sequence Statements and comments\n",
    "print(\"Hello World \\nHow are you?\") #new line\n",
    "print(\"Hello world \\\"wassup!!\\\" how are you?\") #display double quotes\n",
    "# This is a single line comment\n",
    "print(\"hello\",7,8,sep=\"~\",end=\" \")\n",
    "print(\"yooo\")"
   ]
  },
  {
   "cell_type": "code",
   "execution_count": 30,
   "id": "b08f4a6a-b7ba-451d-913b-a1237c8f7239",
   "metadata": {},
   "outputs": [
    {
     "name": "stdout",
     "output_type": "stream",
     "text": [
      "1 <class 'int'>\n",
      "wassup <class 'str'>\n",
      "False <class 'bool'>\n",
      "None <class 'NoneType'>\n",
      "(6+9j) <class 'complex'>\n",
      "[1, [2, 3], ['hello'], (2+4j)]\n",
      "{'name': 'naman', 'age': 21}\n"
     ]
    }
   ],
   "source": [
    "# variable and data type\n",
    "a = 1\n",
    "b = \"wassup\"\n",
    "c = False\n",
    "d = None\n",
    "e = complex(6,9)\n",
    "print(a,type(a))\n",
    "print(b,type(b))\n",
    "print(c,type(c))\n",
    "print(d,type(d))\n",
    "print(e,type(e))\n",
    "\n",
    "list = [1, [2,3], [\"hello\"],complex(2,4)]\n",
    "print(list)\n",
    "\n",
    "dict = {\"name\":\"naman\", \"age\":21}\n",
    "print(dict)"
   ]
  },
  {
   "cell_type": "code",
   "execution_count": 35,
   "id": "ff03d81f-d62f-4fcf-9c87-7ce329a66da1",
   "metadata": {},
   "outputs": [
    {
     "name": "stdin",
     "output_type": "stream",
     "text": [
      "Enter first number: 6\n",
      "Enter second number: 2\n",
      "enter an operator: /\n"
     ]
    },
    {
     "name": "stdout",
     "output_type": "stream",
     "text": [
      "division: 3.0\n"
     ]
    }
   ],
   "source": [
    "#exercise-1: Calculator\n",
    "\n",
    "a = float(input(\"Enter first number:\"))\n",
    "b = float(input(\"Enter second number:\"))\n",
    "c = input(\"enter an operator:\")\n",
    "if(c=='+'):\n",
    "    print(\"addition:\",a+b)\n",
    "elif(c=='-'):\n",
    "    print(\"subtraction:\",a-b)\n",
    "elif(c=='*'):\n",
    "    print(\"multiplication\",a*b)\n",
    "elif(c=='/'):\n",
    "    print(\"division:\",a/b)\n",
    "else:\n",
    "    print(\"Invalid Input\")"
   ]
  },
  {
   "cell_type": "code",
   "execution_count": null,
   "id": "997f08a2-beb2-40df-9416-fce5af90c89d",
   "metadata": {},
   "outputs": [],
   "source": []
  }
 ],
 "metadata": {
  "kernelspec": {
   "display_name": "Python 3 (ipykernel)",
   "language": "python",
   "name": "python3"
  },
  "language_info": {
   "codemirror_mode": {
    "name": "ipython",
    "version": 3
   },
   "file_extension": ".py",
   "mimetype": "text/x-python",
   "name": "python",
   "nbconvert_exporter": "python",
   "pygments_lexer": "ipython3",
   "version": "3.12.3"
  }
 },
 "nbformat": 4,
 "nbformat_minor": 5
}
